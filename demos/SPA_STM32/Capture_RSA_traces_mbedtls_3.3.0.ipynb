{
 "cells": [
  {
   "cell_type": "code",
   "execution_count": 1,
   "id": "09942a55",
   "metadata": {},
   "outputs": [],
   "source": [
    "import time\n",
    "from tqdm import tnrange, tqdm\n",
    "import numpy as np\n",
    "import secrets\n",
    "import random \n",
    "import os"
   ]
  },
  {
   "cell_type": "code",
   "execution_count": 2,
   "id": "6b8b5f48",
   "metadata": {},
   "outputs": [],
   "source": [
    "SCOPETYPE = 'OPENADC'\n",
    "PLATFORM = 'CWLITEARM'\n",
    "SS_VER='SS_VER_2_1'"
   ]
  },
  {
   "cell_type": "code",
   "execution_count": 3,
   "id": "dddd2bb6",
   "metadata": {},
   "outputs": [
    {
     "name": "stdout",
     "output_type": "stream",
     "text": [
      "INFO: Found ChipWhisperer😍\n"
     ]
    }
   ],
   "source": [
    "%run \"../../Setup_Scripts/Setup_Generic.ipynb\""
   ]
  },
  {
   "cell_type": "code",
   "execution_count": 4,
   "id": "c54c18c7",
   "metadata": {},
   "outputs": [
    {
     "name": "stdout",
     "output_type": "stream",
     "text": [
      "SS_VER set to SS_VER_2_1\n",
      "SS_VER set to SS_VER_2_1\n",
      "SS_VER set to SS_VER_2_1\n",
      "SS_VER set to SS_VER_2_1\n",
      "make[1]: '.dep' is up to date.\n",
      "SS_VER set to SS_VER_2_1\n",
      "SS_VER set to SS_VER_2_1\n",
      ".\n",
      "Welcome to another exciting ChipWhisperer target build!!\n",
      "arm-none-eabi-gcc (15:9-2019-q4-0ubuntu1) 9.2.1 20191025 (release) [ARM/arm-9-branch revision 277599]\n",
      "Copyright (C) 2019 Free Software Foundation, Inc.\n",
      "This is free software; see the source for copying conditions.  There is NO\n",
      "warranty; not even for MERCHANTABILITY or FITNESS FOR A PARTICULAR PURPOSE.\n",
      "\n",
      ".\n",
      "Compiling:\n",
      "-en     simpleserial-rsa.c ...\n",
      "-e Done!\n",
      ".\n",
      "Compiling:\n",
      "-en     simpleserial-rsa-xmega.c ...\n",
      "-e Done!\n",
      ".\n",
      "Compiling:\n",
      "-en     simpleserial-rsa-arm.c ...\n",
      "-e Done!\n",
      ".\n",
      "Compiling:\n",
      "-en     .././simpleserial/simpleserial.c ...\n",
      "-e Done!\n",
      ".\n",
      "Compiling:\n",
      "-en     .././hal/stm32f3/stm32f3_hal.c ...\n",
      "-e Done!\n",
      ".\n",
      "Compiling:\n",
      "-en     .././hal/stm32f3/stm32f3_hal_lowlevel.c ...\n",
      "-e Done!\n",
      ".\n",
      "Compiling:\n",
      "-en     .././hal/stm32f3/stm32f3_sysmem.c ...\n",
      "-e Done!\n",
      ".\n",
      "Compiling:\n",
      "-en     .././crypto/mbedtls-3.3.0/library/rsa.c ...\n",
      "-e Done!\n",
      ".\n",
      "Compiling:\n",
      "-en     .././crypto/mbedtls-3.3.0/library/bignum.c ...\n",
      "-e Done!\n",
      ".\n",
      "Compiling:\n",
      "-en     .././crypto/mbedtls-3.3.0/library/bignum_core.c ...\n",
      "-e Done!\n",
      ".\n",
      "Compiling:\n",
      "-en     .././crypto/mbedtls-3.3.0/library/md.c ...\n",
      "-e Done!\n",
      ".\n",
      "Compiling:\n",
      "-en     .././crypto/mbedtls-3.3.0/library/md5.c ...\n",
      "-e Done!\n",
      ".\n",
      "Compiling:\n",
      "-en     .././crypto/mbedtls-3.3.0/library/sha1.c ...\n",
      "-e Done!\n",
      ".\n",
      "Compiling:\n",
      "-en     .././crypto/mbedtls-3.3.0/library/sha256.c ...\n",
      "-e Done!\n",
      ".\n",
      "Compiling:\n",
      "-en     .././crypto/mbedtls-3.3.0/library/sha512.c ...\n",
      "-e Done!\n",
      ".\n",
      "Compiling:\n",
      "-en     .././crypto/mbedtls-3.3.0/library/ripemd160.c ...\n",
      "-e Done!\n",
      ".\n",
      "Compiling:\n",
      "-en     .././crypto/mbedtls-3.3.0/library/oid.c ...\n",
      "-e Done!\n",
      ".\n",
      "Compiling:\n",
      "-en     .././crypto/mbedtls-3.3.0/library/ctr_drbg.c ...\n",
      "-e Done!\n",
      ".\n",
      "Compiling:\n",
      "-en     .././crypto/mbedtls-3.3.0/library/entropy.c ...\n",
      "-e Done!\n",
      ".\n",
      "Compiling:\n",
      "-en     .././crypto/mbedtls-3.3.0/library/entropy_poll.c ...\n",
      "-e Done!\n",
      ".\n",
      "Compiling:\n",
      "-en     .././crypto/mbedtls-3.3.0/library/platform_util.c ...\n",
      "-e Done!\n",
      ".\n",
      "Compiling:\n",
      "-en     .././crypto/mbedtls-3.3.0/library/rsa_alt_helpers.c ...\n",
      "-e Done!\n",
      ".\n",
      "Compiling:\n",
      "-en     .././crypto/mbedtls-3.3.0/library/hash_info.c ...\n",
      "-e Done!\n",
      ".\n",
      "Compiling:\n",
      "-en     .././crypto/mbedtls-3.3.0/library/constant_time.c ...\n",
      "-e Done!\n",
      ".\n",
      "Compiling:\n",
      "-en     .././crypto/mbedtls-3.3.0/library/aes.c ...\n",
      "-e Done!\n",
      ".\n",
      "Assembling: .././hal/stm32f3/stm32f3_startup.S\n",
      "arm-none-eabi-gcc -c -mcpu=cortex-m4 -I. -x assembler-with-cpp -mthumb -mfloat-abi=soft -fmessage-length=0 -ffunction-sections -DF_CPU=7372800 -Wa,-gstabs,-adhlns=objdir-CWLITEARM/stm32f3_startup.lst -I.././simpleserial/ -I.././simpleserial/ -I.././hal -I.././hal/stm32f3 -I.././hal/stm32f3/CMSIS -I.././hal/stm32f3/CMSIS/core -I.././hal/stm32f3/CMSIS/device -I.././hal/stm32f4/Legacy -I.././crypto/ -I.././crypto/mbedtls-3.3.0/include .././hal/stm32f3/stm32f3_startup.S -o objdir-CWLITEARM/stm32f3_startup.o\n",
      ".\n",
      "LINKING:\n",
      "-en     simpleserial-rsa-CWLITEARM.elf ...\n",
      "-e Done!\n",
      ".\n",
      "Creating load file for Flash: simpleserial-rsa-CWLITEARM.hex\n",
      "arm-none-eabi-objcopy -O ihex -R .eeprom -R .fuse -R .lock -R .signature simpleserial-rsa-CWLITEARM.elf simpleserial-rsa-CWLITEARM.hex\n",
      ".\n",
      "Creating load file for Flash: simpleserial-rsa-CWLITEARM.bin\n",
      "arm-none-eabi-objcopy -O binary -R .eeprom -R .fuse -R .lock -R .signature simpleserial-rsa-CWLITEARM.elf simpleserial-rsa-CWLITEARM.bin\n",
      ".\n",
      "Creating load file for EEPROM: simpleserial-rsa-CWLITEARM.eep\n",
      "arm-none-eabi-objcopy -j .eeprom --set-section-flags=.eeprom=\"alloc,load\" \\\n",
      "--change-section-lma .eeprom=0 --no-change-warnings -O ihex simpleserial-rsa-CWLITEARM.elf simpleserial-rsa-CWLITEARM.eep || exit 0\n",
      ".\n",
      "Creating Extended Listing: simpleserial-rsa-CWLITEARM.lss\n",
      "arm-none-eabi-objdump -h -S -z simpleserial-rsa-CWLITEARM.elf > simpleserial-rsa-CWLITEARM.lss\n",
      ".\n",
      "Creating Symbol Table: simpleserial-rsa-CWLITEARM.sym\n",
      "arm-none-eabi-nm -n simpleserial-rsa-CWLITEARM.elf > simpleserial-rsa-CWLITEARM.sym\n",
      "SS_VER set to SS_VER_2_1\n",
      "SS_VER set to SS_VER_2_1\n",
      "Size after:\n",
      "   text\t   data\t    bss\t    dec\t    hex\tfilename\n",
      "  55608\t    124\t  12728\t  68460\t  10b6c\tsimpleserial-rsa-CWLITEARM.elf\n",
      "+--------------------------------------------------------\n",
      "+ Default target does full rebuild each time.\n",
      "+ Specify buildtarget == allquick == to avoid full rebuild\n",
      "+--------------------------------------------------------\n",
      "+--------------------------------------------------------\n",
      "+ Built for platform CW-Lite Arm \\(STM32F3\\) with:\n",
      "+ CRYPTO_TARGET = MBEDTLS-330\n",
      "+ CRYPTO_OPTIONS = RSA\n",
      "+--------------------------------------------------------\n"
     ]
    },
    {
     "name": "stderr",
     "output_type": "stream",
     "text": [
      "simpleserial-rsa.c: In function 'main':\n",
      "simpleserial-rsa.c:46:34: warning: passing argument 3 of 'simpleserial_addcmd' from incompatible pointer type [-Wincompatible-pointer-types]\n",
      "   46 |     simpleserial_addcmd('t', 0,  real_dec);\n",
      "      |                                  ^~~~~~~~\n",
      "      |                                  |\n",
      "      |                                  uint8_t (*)(uint8_t *, uint8_t) {aka unsigned char (*)(unsigned char *, unsigned char)}\n",
      "In file included from simpleserial-rsa.c:20:\n",
      ".././simpleserial/simpleserial.h:40:61: note: expected 'uint8_t (*)(uint8_t,  uint8_t,  uint8_t,  uint8_t *)' {aka 'unsigned char (*)(unsigned char,  unsigned char,  unsigned char,  unsigned char *)'} but argument is of type 'uint8_t (*)(uint8_t *, uint8_t)' {aka 'unsigned char (*)(unsigned char *, unsigned char)'}\n",
      "   40 | int simpleserial_addcmd(char c, unsigned int len, uint8_t (*fp)(uint8_t, uint8_t, uint8_t, uint8_t*));\n",
      "      |                                                   ~~~~~~~~~~^~~~~~~~~~~~~~~~~~~~~~~~~~~~~~~~~~~~~~~~\n",
      "simpleserial-rsa.c:49:34: warning: passing argument 3 of 'simpleserial_addcmd' from incompatible pointer type [-Wincompatible-pointer-types]\n",
      "   49 |     simpleserial_addcmd('p', 16, get_pt);\n",
      "      |                                  ^~~~~~\n",
      "      |                                  |\n",
      "      |                                  uint8_t (*)(uint8_t *, uint8_t) {aka unsigned char (*)(unsigned char *, unsigned char)}\n",
      "In file included from simpleserial-rsa.c:20:\n",
      ".././simpleserial/simpleserial.h:40:61: note: expected 'uint8_t (*)(uint8_t,  uint8_t,  uint8_t,  uint8_t *)' {aka 'unsigned char (*)(unsigned char,  unsigned char,  unsigned char,  unsigned char *)'} but argument is of type 'uint8_t (*)(uint8_t *, uint8_t)' {aka 'unsigned char (*)(unsigned char *, unsigned char)'}\n",
      "   40 | int simpleserial_addcmd(char c, unsigned int len, uint8_t (*fp)(uint8_t, uint8_t, uint8_t, uint8_t*));\n",
      "      |                                                   ~~~~~~~~~~^~~~~~~~~~~~~~~~~~~~~~~~~~~~~~~~~~~~~~~~\n",
      "simpleserial-rsa-arm.c: In function 'get_pt':\n",
      "simpleserial-rsa-arm.c:205:1: warning: control reaches end of non-void function [-Wreturn-type]\n",
      "  205 | }\n",
      "      | ^\n"
     ]
    }
   ],
   "source": [
    "%%bash -s \"$PLATFORM\" \"$SS_VER\"\n",
    "cd ../../../hardware/victims/firmware/simpleserial-rsa-mbedtls-3.3.0\n",
    "make PLATFORM=$1 CRYPTO_TARGET=MBEDTLS-330 CRYPTO_OPTIONS=RSA OPT=2 SS_VER=$2"
   ]
  },
  {
   "cell_type": "code",
   "execution_count": 5,
   "id": "eae4935e",
   "metadata": {},
   "outputs": [
    {
     "name": "stdout",
     "output_type": "stream",
     "text": [
      "../../../hardware/victims/firmware/simpleserial-rsa-mbedtls-3.3.0/simpleserial-rsa-CWLITEARM.hex\n",
      "Detected unknown STM32F ID: 0x446\n",
      "Extended erase (0x44), this can take ten seconds or more\n",
      "Attempting to program 55787 bytes at 0x8000000\n",
      "STM32F Programming flash...\n",
      "STM32F Reading flash...\n",
      "Verified flash OK, 55787 bytes\n"
     ]
    }
   ],
   "source": [
    "fw_path = \"../../../hardware/victims/firmware/simpleserial-rsa-mbedtls-3.3.0/simpleserial-rsa-{}.hex\".format(PLATFORM)\n",
    "print(fw_path)\n",
    "cw.program_target(scope, prog, fw_path)\n",
    "time.sleep(1)"
   ]
  },
  {
   "cell_type": "code",
   "execution_count": 6,
   "id": "4bd68372",
   "metadata": {},
   "outputs": [],
   "source": [
    "scope.clock.adc_mul = 1\n",
    "scope.adc.stream_mode = True\n",
    "scope.adc.samples = 10920000\n",
    "scope.adc.timeout = 20.0\n",
    "reset_target(scope)"
   ]
  },
  {
   "cell_type": "code",
   "execution_count": 7,
   "id": "343f7603",
   "metadata": {},
   "outputs": [
    {
     "name": "stderr",
     "output_type": "stream",
     "text": [
      "C:\\Users\\thor9\\CHIPWH~1\\cw\\home\\portable\\WPy64-3771\\python-3.7.7.amd64\\lib\\site-packages\\ipykernel_launcher.py:10: TqdmDeprecationWarning: Please use `tqdm.notebook.trange` instead of `tqdm.tnrange`\n",
      "  # Remove the CWD from sys.path while we load stuff.\n"
     ]
    },
    {
     "data": {
      "application/vnd.jupyter.widget-view+json": {
       "model_id": "a4b5e02c2cd7437eb3c413f832698bb6",
       "version_major": 2,
       "version_minor": 0
      },
      "text/plain": [
       "Capturing traces:   0%|          | 0/1 [00:00<?, ?it/s]"
      ]
     },
     "metadata": {},
     "output_type": "display_data"
    },
    {
     "name": "stderr",
     "output_type": "stream",
     "text": [
      "(ChipWhisperer Scope WARNING|File _OpenADCInterface.py:605) Timeout in OpenADC capture(), no trigger seen! Trigger forced, data is invalid\n"
     ]
    },
    {
     "ename": "USBErrorPipe",
     "evalue": "LIBUSB_ERROR_PIPE [-9]",
     "output_type": "error",
     "traceback": [
      "\u001b[1;31m---------------------------------------------------------------------------\u001b[0m",
      "\u001b[1;31mUSBErrorPipe\u001b[0m                              Traceback (most recent call last)",
      "\u001b[1;32mC:\\Users\\thor9\\AppData\\Local\\Temp\\ipykernel_14180\\232430033.py\u001b[0m in \u001b[0;36m<module>\u001b[1;34m\u001b[0m\n\u001b[0;32m     14\u001b[0m     \u001b[0mtarget\u001b[0m\u001b[1;33m.\u001b[0m\u001b[0msimpleserial_write\u001b[0m\u001b[1;33m(\u001b[0m\u001b[1;34m\"t\"\u001b[0m\u001b[1;33m,\u001b[0m \u001b[0mplaintext\u001b[0m\u001b[1;33m)\u001b[0m\u001b[1;33m\u001b[0m\u001b[1;33m\u001b[0m\u001b[0m\n\u001b[0;32m     15\u001b[0m \u001b[1;33m\u001b[0m\u001b[0m\n\u001b[1;32m---> 16\u001b[1;33m     \u001b[0mret\u001b[0m \u001b[1;33m=\u001b[0m \u001b[0mscope\u001b[0m\u001b[1;33m.\u001b[0m\u001b[0mcapture\u001b[0m\u001b[1;33m(\u001b[0m\u001b[1;33m)\u001b[0m\u001b[1;33m\u001b[0m\u001b[1;33m\u001b[0m\u001b[0m\n\u001b[0m\u001b[0;32m     17\u001b[0m     \u001b[1;32mif\u001b[0m \u001b[0mret\u001b[0m\u001b[1;33m:\u001b[0m\u001b[1;33m\u001b[0m\u001b[1;33m\u001b[0m\u001b[0m\n\u001b[0;32m     18\u001b[0m         \u001b[0mprint\u001b[0m\u001b[1;33m(\u001b[0m\u001b[1;34m'Timeout happened during acquisition'\u001b[0m\u001b[1;33m)\u001b[0m\u001b[1;33m\u001b[0m\u001b[1;33m\u001b[0m\u001b[0m\n",
      "\u001b[1;32mc:\\users\\thor9\\chipwhisperer5_64\\cw\\home\\portable\\chipwhisperer\\software\\chipwhisperer\\capture\\scopes\\OpenADC.py\u001b[0m in \u001b[0;36mcapture\u001b[1;34m(self, poll_done)\u001b[0m\n\u001b[0;32m    820\u001b[0m             \u001b[0ma\u001b[0m \u001b[1;33m=\u001b[0m \u001b[0mself\u001b[0m\u001b[1;33m.\u001b[0m\u001b[0msc\u001b[0m\u001b[1;33m.\u001b[0m\u001b[0mcapture\u001b[0m\u001b[1;33m(\u001b[0m\u001b[1;32mNone\u001b[0m\u001b[1;33m)\u001b[0m\u001b[1;33m\u001b[0m\u001b[1;33m\u001b[0m\u001b[0m\n\u001b[0;32m    821\u001b[0m         \u001b[1;32melse\u001b[0m\u001b[1;33m:\u001b[0m\u001b[1;33m\u001b[0m\u001b[1;33m\u001b[0m\u001b[0m\n\u001b[1;32m--> 822\u001b[1;33m             \u001b[0ma\u001b[0m \u001b[1;33m=\u001b[0m \u001b[0mself\u001b[0m\u001b[1;33m.\u001b[0m\u001b[0msc\u001b[0m\u001b[1;33m.\u001b[0m\u001b[0mcapture\u001b[0m\u001b[1;33m(\u001b[0m\u001b[0mself\u001b[0m\u001b[1;33m.\u001b[0m\u001b[0madc\u001b[0m\u001b[1;33m.\u001b[0m\u001b[0moffset\u001b[0m\u001b[1;33m,\u001b[0m \u001b[0mself\u001b[0m\u001b[1;33m.\u001b[0m\u001b[0mclock\u001b[0m\u001b[1;33m.\u001b[0m\u001b[0madc_freq\u001b[0m\u001b[1;33m,\u001b[0m \u001b[0mself\u001b[0m\u001b[1;33m.\u001b[0m\u001b[0madc\u001b[0m\u001b[1;33m.\u001b[0m\u001b[0msamples\u001b[0m\u001b[1;33m,\u001b[0m \u001b[0mself\u001b[0m\u001b[1;33m.\u001b[0m\u001b[0madc\u001b[0m\u001b[1;33m.\u001b[0m\u001b[0msegments\u001b[0m\u001b[1;33m,\u001b[0m \u001b[0mself\u001b[0m\u001b[1;33m.\u001b[0m\u001b[0madc\u001b[0m\u001b[1;33m.\u001b[0m\u001b[0msegment_cycles\u001b[0m\u001b[1;33m,\u001b[0m \u001b[0mpoll_done\u001b[0m\u001b[1;33m)\u001b[0m\u001b[1;33m\u001b[0m\u001b[1;33m\u001b[0m\u001b[0m\n\u001b[0m\u001b[0;32m    823\u001b[0m \u001b[1;33m\u001b[0m\u001b[0m\n\u001b[0;32m    824\u001b[0m         \u001b[1;31m# _capture_read() must be given the total number of samples to read; in the case of Husky, self.adc.samples\u001b[0m\u001b[1;33m\u001b[0m\u001b[1;33m\u001b[0m\u001b[1;33m\u001b[0m\u001b[0m\n",
      "\u001b[1;32mc:\\users\\thor9\\chipwhisperer5_64\\cw\\home\\portable\\chipwhisperer\\software\\chipwhisperer\\capture\\scopes\\_OpenADCInterface.py\u001b[0m in \u001b[0;36mcapture\u001b[1;34m(self, offset, adc_freq, samples, segments, segment_cycles, poll_done)\u001b[0m\n\u001b[0;32m    605\u001b[0m                     \u001b[0mscope_logger\u001b[0m\u001b[1;33m.\u001b[0m\u001b[0mwarning\u001b[0m\u001b[1;33m(\u001b[0m\u001b[1;34m'Timeout in OpenADC capture(), no trigger seen! Trigger forced, data is invalid'\u001b[0m\u001b[1;33m)\u001b[0m\u001b[1;33m\u001b[0m\u001b[1;33m\u001b[0m\u001b[0m\n\u001b[0;32m    606\u001b[0m                     \u001b[0mtimeout\u001b[0m \u001b[1;33m=\u001b[0m \u001b[1;32mTrue\u001b[0m\u001b[1;33m\u001b[0m\u001b[1;33m\u001b[0m\u001b[0m\n\u001b[1;32m--> 607\u001b[1;33m                     \u001b[0mself\u001b[0m\u001b[1;33m.\u001b[0m\u001b[0mtriggerNow\u001b[0m\u001b[1;33m(\u001b[0m\u001b[1;33m)\u001b[0m\u001b[1;33m\u001b[0m\u001b[1;33m\u001b[0m\u001b[0m\n\u001b[0m\u001b[0;32m    608\u001b[0m                     \u001b[0mself\u001b[0m\u001b[1;33m.\u001b[0m\u001b[0mserial\u001b[0m\u001b[1;33m.\u001b[0m\u001b[0mstreamModeCaptureStream\u001b[0m\u001b[1;33m.\u001b[0m\u001b[0mstop\u001b[0m \u001b[1;33m=\u001b[0m \u001b[1;32mTrue\u001b[0m\u001b[1;33m\u001b[0m\u001b[1;33m\u001b[0m\u001b[0m\n\u001b[0;32m    609\u001b[0m                     \u001b[1;32mbreak\u001b[0m\u001b[1;33m\u001b[0m\u001b[1;33m\u001b[0m\u001b[0m\n",
      "\u001b[1;32mc:\\users\\thor9\\chipwhisperer5_64\\cw\\home\\portable\\chipwhisperer\\software\\chipwhisperer\\capture\\scopes\\_OpenADCInterface.py\u001b[0m in \u001b[0;36mtriggerNow\u001b[1;34m(self)\u001b[0m\n\u001b[0;32m    369\u001b[0m     \u001b[1;32mdef\u001b[0m \u001b[0mtriggerNow\u001b[0m\u001b[1;33m(\u001b[0m\u001b[0mself\u001b[0m\u001b[1;33m)\u001b[0m\u001b[1;33m:\u001b[0m\u001b[1;33m\u001b[0m\u001b[1;33m\u001b[0m\u001b[0m\n\u001b[0;32m    370\u001b[0m         \u001b[0minitial\u001b[0m \u001b[1;33m=\u001b[0m \u001b[0mself\u001b[0m\u001b[1;33m.\u001b[0m\u001b[0msettings\u001b[0m\u001b[1;33m(\u001b[0m\u001b[1;32mTrue\u001b[0m\u001b[1;33m)\u001b[0m\u001b[1;33m\u001b[0m\u001b[1;33m\u001b[0m\u001b[0m\n\u001b[1;32m--> 371\u001b[1;33m         \u001b[0mself\u001b[0m\u001b[1;33m.\u001b[0m\u001b[0msetSettings\u001b[0m\u001b[1;33m(\u001b[0m\u001b[0minitial\u001b[0m \u001b[1;33m|\u001b[0m \u001b[0mSETTINGS_TRIG_NOW\u001b[0m\u001b[1;33m)\u001b[0m\u001b[1;33m\u001b[0m\u001b[1;33m\u001b[0m\u001b[0m\n\u001b[0m\u001b[0;32m    372\u001b[0m         \u001b[0mtime\u001b[0m\u001b[1;33m.\u001b[0m\u001b[0msleep\u001b[0m\u001b[1;33m(\u001b[0m\u001b[1;36m0.05\u001b[0m\u001b[1;33m)\u001b[0m\u001b[1;33m\u001b[0m\u001b[1;33m\u001b[0m\u001b[0m\n\u001b[0;32m    373\u001b[0m         \u001b[0mself\u001b[0m\u001b[1;33m.\u001b[0m\u001b[0msetSettings\u001b[0m\u001b[1;33m(\u001b[0m\u001b[0minitial\u001b[0m \u001b[1;33m&\u001b[0m \u001b[1;33m~\u001b[0m\u001b[0mSETTINGS_TRIG_NOW\u001b[0m\u001b[1;33m)\u001b[0m\u001b[1;33m\u001b[0m\u001b[1;33m\u001b[0m\u001b[0m\n",
      "\u001b[1;32mc:\\users\\thor9\\chipwhisperer5_64\\cw\\home\\portable\\chipwhisperer\\software\\chipwhisperer\\capture\\scopes\\_OpenADCInterface.py\u001b[0m in \u001b[0;36msetSettings\u001b[1;34m(self, state, validate)\u001b[0m\n\u001b[0;32m    341\u001b[0m         \u001b[0mcmd\u001b[0m\u001b[1;33m[\u001b[0m\u001b[1;36m0\u001b[0m\u001b[1;33m]\u001b[0m \u001b[1;33m=\u001b[0m \u001b[0mstate\u001b[0m\u001b[1;33m\u001b[0m\u001b[1;33m\u001b[0m\u001b[0m\n\u001b[0;32m    342\u001b[0m         \u001b[0mself\u001b[0m\u001b[1;33m.\u001b[0m\u001b[0mcached_settings\u001b[0m \u001b[1;33m=\u001b[0m \u001b[0mstate\u001b[0m\u001b[1;33m\u001b[0m\u001b[1;33m\u001b[0m\u001b[0m\n\u001b[1;32m--> 343\u001b[1;33m         \u001b[0mself\u001b[0m\u001b[1;33m.\u001b[0m\u001b[0msendMessage\u001b[0m\u001b[1;33m(\u001b[0m\u001b[0mCODE_WRITE\u001b[0m\u001b[1;33m,\u001b[0m \u001b[0mADDR_SETTINGS\u001b[0m\u001b[1;33m,\u001b[0m \u001b[0mcmd\u001b[0m\u001b[1;33m,\u001b[0m \u001b[0mValidate\u001b[0m\u001b[1;33m=\u001b[0m\u001b[0mvalidate\u001b[0m\u001b[1;33m)\u001b[0m\u001b[1;33m\u001b[0m\u001b[1;33m\u001b[0m\u001b[0m\n\u001b[0m\u001b[0;32m    344\u001b[0m \u001b[1;33m\u001b[0m\u001b[0m\n\u001b[0;32m    345\u001b[0m     \u001b[1;32mdef\u001b[0m \u001b[0msettings\u001b[0m\u001b[1;33m(\u001b[0m\u001b[0mself\u001b[0m\u001b[1;33m,\u001b[0m \u001b[0muse_cached\u001b[0m\u001b[1;33m=\u001b[0m\u001b[1;32mFalse\u001b[0m\u001b[1;33m)\u001b[0m\u001b[1;33m:\u001b[0m\u001b[1;33m\u001b[0m\u001b[1;33m\u001b[0m\u001b[0m\n",
      "\u001b[1;32mc:\\users\\thor9\\chipwhisperer5_64\\cw\\home\\portable\\chipwhisperer\\software\\chipwhisperer\\capture\\scopes\\_OpenADCInterface.py\u001b[0m in \u001b[0;36msendMessage\u001b[1;34m(self, mode, address, payload, Validate, maxResp, readMask)\u001b[0m\n\u001b[0;32m    227\u001b[0m             \u001b[1;32melse\u001b[0m\u001b[1;33m:\u001b[0m\u001b[1;33m\u001b[0m\u001b[1;33m\u001b[0m\u001b[0m\n\u001b[0;32m    228\u001b[0m                 \u001b[1;31m# Write output to memory\u001b[0m\u001b[1;33m\u001b[0m\u001b[1;33m\u001b[0m\u001b[1;33m\u001b[0m\u001b[0m\n\u001b[1;32m--> 229\u001b[1;33m                 \u001b[0mself\u001b[0m\u001b[1;33m.\u001b[0m\u001b[0mserial\u001b[0m\u001b[1;33m.\u001b[0m\u001b[0mcmdWriteMem\u001b[0m\u001b[1;33m(\u001b[0m\u001b[0maddress\u001b[0m\u001b[1;33m,\u001b[0m \u001b[0mpba\u001b[0m\u001b[1;33m)\u001b[0m\u001b[1;33m\u001b[0m\u001b[1;33m\u001b[0m\u001b[0m\n\u001b[0m\u001b[0;32m    230\u001b[0m \u001b[1;33m\u001b[0m\u001b[0m\n\u001b[0;32m    231\u001b[0m                 \u001b[1;31m# Check write was successful if validation requested\u001b[0m\u001b[1;33m\u001b[0m\u001b[1;33m\u001b[0m\u001b[1;33m\u001b[0m\u001b[0m\n",
      "\u001b[1;32mc:\\users\\thor9\\chipwhisperer5_64\\cw\\home\\portable\\chipwhisperer\\software\\chipwhisperer\\hardware\\naeusb\\naeusb.py\u001b[0m in \u001b[0;36mcmdWriteMem\u001b[1;34m(self, addr, data)\u001b[0m\n\u001b[0;32m    763\u001b[0m         \"\"\"\n\u001b[0;32m    764\u001b[0m \u001b[1;33m\u001b[0m\u001b[0m\n\u001b[1;32m--> 765\u001b[1;33m         \u001b[1;32mreturn\u001b[0m \u001b[0mself\u001b[0m\u001b[1;33m.\u001b[0m\u001b[0musbserializer\u001b[0m\u001b[1;33m.\u001b[0m\u001b[0mcmdWriteMem\u001b[0m\u001b[1;33m(\u001b[0m\u001b[0maddr\u001b[0m\u001b[1;33m,\u001b[0m \u001b[0mdata\u001b[0m\u001b[1;33m)\u001b[0m\u001b[1;33m\u001b[0m\u001b[1;33m\u001b[0m\u001b[0m\n\u001b[0m\u001b[0;32m    766\u001b[0m \u001b[1;33m\u001b[0m\u001b[0m\n\u001b[0;32m    767\u001b[0m     \u001b[1;32mdef\u001b[0m \u001b[0mwriteBulkEP\u001b[0m\u001b[1;33m(\u001b[0m\u001b[0mself\u001b[0m\u001b[1;33m,\u001b[0m \u001b[0mdata\u001b[0m \u001b[1;33m:\u001b[0m \u001b[0mbytearray\u001b[0m\u001b[1;33m)\u001b[0m\u001b[1;33m:\u001b[0m\u001b[1;33m\u001b[0m\u001b[1;33m\u001b[0m\u001b[0m\n",
      "\u001b[1;32mc:\\users\\thor9\\chipwhisperer5_64\\cw\\home\\portable\\chipwhisperer\\software\\chipwhisperer\\hardware\\naeusb\\naeusb.py\u001b[0m in \u001b[0;36mcmdWriteMem\u001b[1;34m(self, addr, data)\u001b[0m\n\u001b[0;32m    544\u001b[0m             \u001b[0mpload\u001b[0m\u001b[1;33m.\u001b[0m\u001b[0mextend\u001b[0m\u001b[1;33m(\u001b[0m\u001b[0mdata\u001b[0m\u001b[1;33m)\u001b[0m\u001b[1;33m\u001b[0m\u001b[1;33m\u001b[0m\u001b[0m\n\u001b[0;32m    545\u001b[0m \u001b[1;33m\u001b[0m\u001b[0m\n\u001b[1;32m--> 546\u001b[1;33m         \u001b[0mself\u001b[0m\u001b[1;33m.\u001b[0m\u001b[0msendCtrl\u001b[0m\u001b[1;33m(\u001b[0m\u001b[0mcmd\u001b[0m\u001b[1;33m,\u001b[0m \u001b[0mdata\u001b[0m\u001b[1;33m=\u001b[0m\u001b[0mpload\u001b[0m\u001b[1;33m)\u001b[0m\u001b[1;33m\u001b[0m\u001b[1;33m\u001b[0m\u001b[0m\n\u001b[0m\u001b[0;32m    547\u001b[0m \u001b[1;33m\u001b[0m\u001b[0m\n\u001b[0;32m    548\u001b[0m \u001b[1;33m\u001b[0m\u001b[0m\n",
      "\u001b[1;32mc:\\users\\thor9\\chipwhisperer5_64\\cw\\home\\portable\\chipwhisperer\\software\\chipwhisperer\\hardware\\naeusb\\naeusb.py\u001b[0m in \u001b[0;36msendCtrl\u001b[1;34m(self, cmd, value, data)\u001b[0m\n\u001b[0;32m    477\u001b[0m                     bRequest: {:02X}, wValue: {:04X}, wIndex: {:04X}, data: {}\".format(0x41, cmd, \\\n\u001b[0;32m    478\u001b[0m                         value, 0, data))\n\u001b[1;32m--> 479\u001b[1;33m         \u001b[0mself\u001b[0m\u001b[1;33m.\u001b[0m\u001b[0mhandle\u001b[0m\u001b[1;33m.\u001b[0m\u001b[0mcontrolWrite\u001b[0m\u001b[1;33m(\u001b[0m\u001b[1;36m0x41\u001b[0m\u001b[1;33m,\u001b[0m \u001b[0mcmd\u001b[0m\u001b[1;33m,\u001b[0m \u001b[0mvalue\u001b[0m\u001b[1;33m,\u001b[0m \u001b[1;36m0\u001b[0m\u001b[1;33m,\u001b[0m \u001b[0mdata\u001b[0m\u001b[1;33m,\u001b[0m \u001b[0mtimeout\u001b[0m\u001b[1;33m=\u001b[0m\u001b[0mself\u001b[0m\u001b[1;33m.\u001b[0m\u001b[0m_timeout\u001b[0m\u001b[1;33m)\u001b[0m\u001b[1;33m\u001b[0m\u001b[1;33m\u001b[0m\u001b[0m\n\u001b[0m\u001b[0;32m    480\u001b[0m         \u001b[1;31m#return self.usbdev().ctrl_transfer(0x41, cmd, value, 0, data, timeout=self._timeout)\u001b[0m\u001b[1;33m\u001b[0m\u001b[1;33m\u001b[0m\u001b[1;33m\u001b[0m\u001b[0m\n\u001b[0;32m    481\u001b[0m \u001b[1;33m\u001b[0m\u001b[0m\n",
      "\u001b[1;32mC:\\Users\\thor9\\CHIPWH~1\\cw\\home\\portable\\WPy64-3771\\python-3.7.7.amd64\\lib\\site-packages\\usb1\\__init__.py\u001b[0m in \u001b[0;36mcontrolWrite\u001b[1;34m(self, request_type, request, value, index, data, timeout)\u001b[0m\n\u001b[0;32m   1329\u001b[0m         \u001b[0mdata\u001b[0m\u001b[1;33m,\u001b[0m \u001b[0m_\u001b[0m \u001b[1;33m=\u001b[0m \u001b[0mcreate_initialised_buffer\u001b[0m\u001b[1;33m(\u001b[0m\u001b[0mdata\u001b[0m\u001b[1;33m)\u001b[0m\u001b[1;33m\u001b[0m\u001b[1;33m\u001b[0m\u001b[0m\n\u001b[0;32m   1330\u001b[0m         return self._controlTransfer(request_type, request, value, index, data,\n\u001b[1;32m-> 1331\u001b[1;33m                                      sizeof(data), timeout)\n\u001b[0m\u001b[0;32m   1332\u001b[0m \u001b[1;33m\u001b[0m\u001b[0m\n\u001b[0;32m   1333\u001b[0m     def controlRead(\n",
      "\u001b[1;32mC:\\Users\\thor9\\CHIPWH~1\\cw\\home\\portable\\WPy64-3771\\python-3.7.7.amd64\\lib\\site-packages\\usb1\\__init__.py\u001b[0m in \u001b[0;36m_controlTransfer\u001b[1;34m(self, request_type, request, value, index, data, length, timeout)\u001b[0m\n\u001b[0;32m   1305\u001b[0m             \u001b[0mtimeout\u001b[0m\u001b[1;33m,\u001b[0m\u001b[1;33m\u001b[0m\u001b[1;33m\u001b[0m\u001b[0m\n\u001b[0;32m   1306\u001b[0m         )\n\u001b[1;32m-> 1307\u001b[1;33m         \u001b[0mmayRaiseUSBError\u001b[0m\u001b[1;33m(\u001b[0m\u001b[0mresult\u001b[0m\u001b[1;33m)\u001b[0m\u001b[1;33m\u001b[0m\u001b[1;33m\u001b[0m\u001b[0m\n\u001b[0m\u001b[0;32m   1308\u001b[0m         \u001b[1;32mreturn\u001b[0m \u001b[0mresult\u001b[0m\u001b[1;33m\u001b[0m\u001b[1;33m\u001b[0m\u001b[0m\n\u001b[0;32m   1309\u001b[0m \u001b[1;33m\u001b[0m\u001b[0m\n",
      "\u001b[1;32mC:\\Users\\thor9\\CHIPWH~1\\cw\\home\\portable\\WPy64-3771\\python-3.7.7.amd64\\lib\\site-packages\\usb1\\__init__.py\u001b[0m in \u001b[0;36mmayRaiseUSBError\u001b[1;34m(value, __raiseUSBError)\u001b[0m\n\u001b[0;32m    125\u001b[0m     ):\n\u001b[0;32m    126\u001b[0m     \u001b[1;32mif\u001b[0m \u001b[0mvalue\u001b[0m \u001b[1;33m<\u001b[0m \u001b[1;36m0\u001b[0m\u001b[1;33m:\u001b[0m\u001b[1;33m\u001b[0m\u001b[1;33m\u001b[0m\u001b[0m\n\u001b[1;32m--> 127\u001b[1;33m         \u001b[0m__raiseUSBError\u001b[0m\u001b[1;33m(\u001b[0m\u001b[0mvalue\u001b[0m\u001b[1;33m)\u001b[0m\u001b[1;33m\u001b[0m\u001b[1;33m\u001b[0m\u001b[0m\n\u001b[0m\u001b[0;32m    128\u001b[0m     \u001b[1;32mreturn\u001b[0m \u001b[0mvalue\u001b[0m\u001b[1;33m\u001b[0m\u001b[1;33m\u001b[0m\u001b[0m\n\u001b[0;32m    129\u001b[0m \u001b[1;33m\u001b[0m\u001b[0m\n",
      "\u001b[1;32mC:\\Users\\thor9\\CHIPWH~1\\cw\\home\\portable\\WPy64-3771\\python-3.7.7.amd64\\lib\\site-packages\\usb1\\__init__.py\u001b[0m in \u001b[0;36mraiseUSBError\u001b[1;34m(value, __STATUS_TO_EXCEPTION_DICT, __USBError)\u001b[0m\n\u001b[0;32m    117\u001b[0m         \u001b[0m__USBError\u001b[0m\u001b[1;33m=\u001b[0m\u001b[0mUSBError\u001b[0m\u001b[1;33m,\u001b[0m\u001b[1;33m\u001b[0m\u001b[1;33m\u001b[0m\u001b[0m\n\u001b[0;32m    118\u001b[0m     ): # pylint: disable=dangerous-default-value\n\u001b[1;32m--> 119\u001b[1;33m     \u001b[1;32mraise\u001b[0m \u001b[0m__STATUS_TO_EXCEPTION_DICT\u001b[0m\u001b[1;33m.\u001b[0m\u001b[0mget\u001b[0m\u001b[1;33m(\u001b[0m\u001b[0mvalue\u001b[0m\u001b[1;33m,\u001b[0m \u001b[0m__USBError\u001b[0m\u001b[1;33m)\u001b[0m\u001b[1;33m(\u001b[0m\u001b[0mvalue\u001b[0m\u001b[1;33m)\u001b[0m\u001b[1;33m\u001b[0m\u001b[1;33m\u001b[0m\u001b[0m\n\u001b[0m\u001b[0;32m    120\u001b[0m \u001b[1;33m\u001b[0m\u001b[0m\n\u001b[0;32m    121\u001b[0m def mayRaiseUSBError(\n",
      "\u001b[1;31mUSBErrorPipe\u001b[0m: LIBUSB_ERROR_PIPE [-9]"
     ]
    }
   ],
   "source": [
    "dpdq = int(\"C1ACF567564274FB07A0BBAD5D26E2983C94D22288ACD763FD8E5600ED4A702DF84198A5F06C2E72236AE490C93F07F83CC559CD27BC2D1CA488811730BB57254959CBF6F8FEF750AEE6977C155579C7D8AAEA56749EA28623272E4F7D0592AF7C1F1313CAC9471B5C523BFE592F517B407A1BD76C164B93DA2D32A383E58357\", 16)\n",
    "\n",
    "proj_path = os.path.join('I:', os.sep, 'TFM', 'updated_lib')\n",
    "cwd_proj_path = os.path.join(proj_path, \"RSA_1024.cwp\")\n",
    "trs_proj_path = os.path.join(proj_path, \"RSA_1024.trs\")\n",
    "\n",
    "proj = cw.create_project(cwd_proj_path, overwrite=True)\n",
    "\n",
    "N = 1\n",
    "for i in tnrange(N, desc='Capturing traces'):\n",
    "    target.flush()\n",
    "    scope.arm()\n",
    "    plaintext = secrets.token_bytes(128)\n",
    "    target.simpleserial_write(\"t\", plaintext)\n",
    "\n",
    "    ret = scope.capture()\n",
    "    if ret:\n",
    "        print('Timeout happened during acquisition')\n",
    "\n",
    "    time.sleep(2)\n",
    "    if SS_VER=='SS_VER_2_1':\n",
    "        output = target.simpleserial_read_witherrors('r', 128, timeout=10)\n",
    "    else:\n",
    "        output = target.simpleserial_read_witherrors('r', 48, timeout=10)\n",
    "    \n",
    "    sig = None\n",
    "    if output['valid']:\n",
    "        print(output['payload'])\n",
    "        sig = output['payload']\n",
    "        \n",
    "    wave = scope.get_last_trace()\n",
    "\n",
    "    trace = cw.Trace(wave, plaintext, sig, dpdq.to_bytes(128, 'big'))\n",
    "    \n",
    "    \n",
    "    proj.traces.append(trace)\n",
    "proj.save()"
   ]
  },
  {
   "cell_type": "code",
   "execution_count": null,
   "id": "3c9c887b",
   "metadata": {},
   "outputs": [],
   "source": [
    "trace.plot()"
   ]
  },
  {
   "cell_type": "code",
   "execution_count": null,
   "id": "91008bcb",
   "metadata": {},
   "outputs": [],
   "source": [
    "scope.dis()"
   ]
  },
  {
   "cell_type": "code",
   "execution_count": null,
   "id": "664ad19c",
   "metadata": {},
   "outputs": [],
   "source": [
    "%%sh -s \"$cwd_proj_path\" \"$trs_proj_path\"\n",
    "cd /c/Users/thor9/github/ot-sca/util\n",
    "python cw_to_trs.py -i $1 -o $2\n"
   ]
  }
 ],
 "metadata": {
  "kernelspec": {
   "display_name": "Python 3 (ipykernel)",
   "language": "python",
   "name": "python3"
  },
  "language_info": {
   "codemirror_mode": {
    "name": "ipython",
    "version": 3
   },
   "file_extension": ".py",
   "mimetype": "text/x-python",
   "name": "python",
   "nbconvert_exporter": "python",
   "pygments_lexer": "ipython3",
   "version": "3.7.7"
  }
 },
 "nbformat": 4,
 "nbformat_minor": 5
}
